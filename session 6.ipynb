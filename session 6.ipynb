{
 "cells": [
  {
   "cell_type": "markdown",
   "id": "af52ec34",
   "metadata": {},
   "source": [
    "# Session 6"
   ]
  },
  {
   "cell_type": "markdown",
   "id": "9fe31a11",
   "metadata": {},
   "source": [
    "Import numpy and matplotlib"
   ]
  },
  {
   "cell_type": "code",
   "execution_count": null,
   "id": "021f4466",
   "metadata": {},
   "outputs": [],
   "source": [
    "%matplotlib inline\n",
    "import numpy as np\n",
    "import matplotlib.pyplot as plt"
   ]
  },
  {
   "cell_type": "markdown",
   "id": "8fa58232",
   "metadata": {},
   "source": [
    "Define sine and cosine"
   ]
  },
  {
   "cell_type": "code",
   "execution_count": null,
   "id": "2fa5426b",
   "metadata": {},
   "outputs": [],
   "source": [
    "y = np.sin(x)\n",
    "z = np.cos(x)"
   ]
  },
  {
   "cell_type": "markdown",
   "id": "9fa33a40",
   "metadata": {},
   "source": [
    "Plot sin(x) and cosine(x) with x between 0 and 2pi with 1000 entries"
   ]
  },
  {
   "cell_type": "code",
   "execution_count": null,
   "id": "456ddcc7",
   "metadata": {},
   "outputs": [],
   "source": [
    "x = np.linspace(0, 2*np.pi, 1000)\n",
    "table = Table([x, y, z], names=['x','sin(x)','cos(x)'])\n",
    "print(table)"
   ]
  },
  {
   "cell_type": "markdown",
   "id": "2141cc01",
   "metadata": {},
   "source": [
    "Print the first 10 values of x, sin(x), and cos(x)"
   ]
  },
  {
   "cell_type": "code",
   "execution_count": null,
   "id": "2860095c",
   "metadata": {},
   "outputs": [],
   "source": [
    "x = np.linspace(0, 2*np.pi, 10)\n",
    "for i in range(len(x)):\n",
    "    print(f\"{x[i]}\\t{y[i]}\\t{z[i]}\")"
   ]
  },
  {
   "cell_type": "code",
   "execution_count": null,
   "id": "fa75756e",
   "metadata": {},
   "outputs": [],
   "source": []
  }
 ],
 "metadata": {
  "kernelspec": {
   "display_name": "Python 3 (ipykernel)",
   "language": "python",
   "name": "python3"
  },
  "language_info": {
   "codemirror_mode": {
    "name": "ipython",
    "version": 3
   },
   "file_extension": ".py",
   "mimetype": "text/x-python",
   "name": "python",
   "nbconvert_exporter": "python",
   "pygments_lexer": "ipython3",
   "version": "3.10.4"
  }
 },
 "nbformat": 4,
 "nbformat_minor": 5
}
