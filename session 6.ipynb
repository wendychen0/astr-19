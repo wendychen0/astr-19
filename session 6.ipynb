{
 "cells": [
  {
   "cell_type": "markdown",
   "id": "2fd7d879",
   "metadata": {},
   "source": [
    "# Session 6"
   ]
  },
  {
   "cell_type": "markdown",
   "id": "33688807",
   "metadata": {},
   "source": [
    "Import numpy and matplotlib"
   ]
  },
  {
   "cell_type": "code",
   "execution_count": null,
   "id": "a3a24a5b",
   "metadata": {},
   "outputs": [],
   "source": [
    "%matplotlib inline\n",
    "import numpy as np\n",
    "import matplotlib.pyplot as plt\n",
    "from astropy.table import Table"
   ]
  },
  {
   "cell_type": "markdown",
   "id": "dd03f3f9",
   "metadata": {},
   "source": [
    "Define sine and cosine"
   ]
  },
  {
   "cell_type": "code",
   "execution_count": null,
   "id": "41997008",
   "metadata": {},
   "outputs": [],
   "source": [
    "y = np.sin(x)\n",
    "z = np.cos(x)"
   ]
  },
  {
   "cell_type": "markdown",
   "id": "65a36c40",
   "metadata": {},
   "source": [
    "Plot sin(x) and cosine(x) with x between 0 and 2pi with 1000 entries"
   ]
  },
  {
   "cell_type": "code",
   "execution_count": null,
   "id": "2a19820e",
   "metadata": {},
   "outputs": [],
   "source": [
    "x = np.linspace(0, 2*np.pi, 1000)\n",
    "table = Table([x, y, z], names=['x','sin(x)','cos(x)'])\n",
    "print(table)"
   ]
  },
  {
   "cell_type": "markdown",
   "id": "efc2d0b3",
   "metadata": {},
   "source": [
    "Print the first 10 values of x, sin(x), and cos(x)"
   ]
  },
  {
   "cell_type": "code",
   "execution_count": null,
   "id": "84a4cc0d",
   "metadata": {},
   "outputs": [],
   "source": [
    "x = np.linspace(0, 2*np.pi, 10)\n",
    "for i in range(len(x)):\n",
    "    print(f\"{x[i]}\\t{y[i]}\\t{z[i]}\")"
   ]
  },
  {
   "cell_type": "code",
   "execution_count": null,
   "id": "73273ded",
   "metadata": {},
   "outputs": [],
   "source": []
  }
 ],
 "metadata": {
  "kernelspec": {
   "display_name": "Python 3 (ipykernel)",
   "language": "python",
   "name": "python3"
  },
  "language_info": {
   "codemirror_mode": {
    "name": "ipython",
    "version": 3
   },
   "file_extension": ".py",
   "mimetype": "text/x-python",
   "name": "python",
   "nbconvert_exporter": "python",
   "pygments_lexer": "ipython3",
   "version": "3.10.4"
  }
 },
 "nbformat": 4,
 "nbformat_minor": 5
}
